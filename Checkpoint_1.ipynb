{
 "cells": [
  {
   "cell_type": "markdown",
   "metadata": {},
   "source": [
    "# Checkpoint 1 point 1"
   ]
  },
  {
   "cell_type": "code",
   "execution_count": 1,
   "metadata": {},
   "outputs": [
    {
     "name": "stderr",
     "output_type": "stream",
     "text": [
      "/home/dave/porepy/src/porepy/numerics/nonlinear/nonlinear_solvers.py:14: TqdmExperimentalWarning: Using `tqdm.autonotebook.tqdm` in notebook mode. Use `tqdm.tqdm` instead to force console mode (e.g. in jupyter console)\n",
      "  from tqdm.autonotebook import trange  # type: ignore\n"
     ]
    }
   ],
   "source": [
    "from functions_cp1 import *\n",
    "import sys\n",
    "main_folder = \"./\"\n",
    "spe10_folder = main_folder + \"spe10\"\n",
    "sys.path.insert(1, spe10_folder)\n",
    "from spe10 import Spe10\n",
    "from pathos.multiprocessing import _ProcessPool as Pool\n"
   ]
  },
  {
   "cell_type": "code",
   "execution_count": 2,
   "metadata": {},
   "outputs": [],
   "source": [
    "def upscale(sd, perm, dir, export_folder=None):\n",
    "    \"\"\"\n",
    "    Compute the averaged gradient and flux for a given subdomain and direction of the pressure\n",
    "    gradient.\n",
    "\n",
    "    Args:\n",
    "        sd (pp.Grid): The grid representing the subdomain.\n",
    "        perm (dict): The permeability of the subdomain divided in the fields \"kxx\" and \"kyy\"\n",
    "        dir (int): The direction of the flow, 0 means x-direction and 1 means y-direction.\n",
    "        export_folder (str): If given, path where to export the results.\n",
    "            Default to None, no exporting.\n",
    "\n",
    "    Returns:\n",
    "        (np.ndarray, np.ndarray): averaged gradient and flux.\n",
    "    \"\"\"\n",
    "    perm_tensor = pp.SecondOrderTensor(kxx=perm[\"kxx\"], kyy=perm[\"kyy\"])\n",
    "    \n",
    "    #pp.plot_grid(sd, perm_tensor, plot_2d=True)\n",
    "\n",
    "    # Boundary conditions\n",
    "    b_faces = sd.tags[\"domain_boundary_faces\"].nonzero()[0]\n",
    "    \n",
    "    b_face_centers = sd.face_centers[:, b_faces]\n",
    "\n",
    "    # Find the min and max values of the boundary faces\n",
    "    sd_min = np.amin(sd.face_centers[dir, :])\n",
    "    sd_max = np.amax(sd.face_centers[dir, :])\n",
    "\n",
    "    # define outflow and inflow type boundary conditions\n",
    "    out_flow = np.isclose(b_face_centers[dir, :], sd_max)\n",
    "    in_flow = np.isclose(b_face_centers[dir, :], sd_min)\n",
    "\n",
    "    # define the labels and values for the boundary faces\n",
    "    labels = np.array([\"neu\"] * b_faces.size)\n",
    "    labels[np.logical_or(in_flow, out_flow)] = \"dir\"\n",
    "    \n",
    "    bc_val = np.zeros(sd.num_faces)\n",
    "    bc_val[b_faces[in_flow]] = sd_max - sd_min\n",
    "    bc = pp.BoundaryCondition(sd, b_faces, labels)\n",
    "\n",
    "    # Collect all parameters in a dictionary\n",
    "    key = \"flow\"\n",
    "    parameters = {\"second_order_tensor\": perm_tensor, \"bc\": bc, \"bc_values\": bc_val}\n",
    "    data = pp.initialize_default_data(sd, {}, key, parameters)\n",
    "    \n",
    "    # Discretize the problem (construct the lhr and rhs)\n",
    "    pfa = pp.Mpfa(key)\n",
    "    pfa.discretize(sd, data)\n",
    "    A_pfa, b_pfa = pfa.assemble_matrix_rhs(sd, data)\n",
    "    p = sps.linalg.spsolve(A_pfa, b_pfa)\n",
    "\n",
    "\n",
    "    # Export the solution\n",
    "    if export_folder is not None:\n",
    "        save = pp.Exporter(sd, \"sol\", folder_name=export_folder)\n",
    "        save.write_vtu([(\"p\", p), (\"log_perm\", np.log10(perm[\"kxx\"]))])\n",
    "\n",
    "    # Post-process the solution to get the flux\n",
    "    # print(\"beginning gradient computation\")\n",
    "    return compute_avg_q_grad(sd, p, data, key, bc, bc_val)\n",
    "    "
   ]
  },
  {
   "cell_type": "code",
   "execution_count": 3,
   "metadata": {},
   "outputs": [],
   "source": [
    "    \n",
    "def compute_tensor(grad_h, grad_v, q_h, q_v):\n",
    "    \"\"\"\n",
    "    Compute the upscaled permeability tensor.\n",
    "\n",
    "    Args:\n",
    "        grad_h (np.ndarray): Gradient in the horizontal direction.\n",
    "        grad_v (np.ndarray): Gradient in the vertical direction.\n",
    "        q_h (np.ndarray): Flux in the horizontal direction.\n",
    "        q_v (np.ndarray): Flux in the vertical direction.\n",
    "\n",
    "    Returns:\n",
    "        perm (np.ndarray): Upscaled permeability tensor.\n",
    "\n",
    "    The function solves a linear system to obtain the upscaled permeability tensor\n",
    "    based on the given gradients and fluxes. It enforces numerical symmetry and\n",
    "    checks if the resulting tensor is symmetric positive definite (SPD).\n",
    "    \"\"\"\n",
    "    \n",
    "    ## Assembling spd matrix for least squares\n",
    "    A = np.array([[grad_h[0], grad_h[1], 0, 0],\n",
    "                  [0, 0, grad_h[0], grad_h[1]],\n",
    "                  [grad_v[0], grad_v[1], 0, 0],\n",
    "                  [0, 0, grad_v[0], grad_v[1]],\n",
    "                  [0, 1, -1,0]])\n",
    "    b = np.array([q_h[0], q_h[1], q_v[0], q_v[1],0])\n",
    "    \n",
    "    # Solve the linear system\n",
    "    K_avg = np.linalg.lstsq(A, b,rcond = None)[0]\n",
    "\n",
    "    perm = nearest_spd(K_avg.reshape(2, 2)).ravel()\n",
    "    \n",
    "    return perm\n",
    "    \n",
    "def to_parallel(sub_sd_id, sub_sd, perm_dict, part, folder_results):\n",
    "    mask = part == sub_sd_id\n",
    "    sub_perm = {key: val[mask] for key, val in perm_dict.items()}\n",
    "    q_h, grad_h = upscale(sub_sd, sub_perm, 0, folder_results)\n",
    "    q_v, grad_v = upscale(sub_sd, sub_perm, 1, folder_results)\n",
    "    kk = compute_tensor(grad_h, grad_v, q_h, q_v)\n",
    "    return [kk[0], kk[1], kk[2], kk[3]], mask\n"
   ]
  },
  {
   "cell_type": "code",
   "execution_count": 4,
   "metadata": {},
   "outputs": [],
   "source": [
    "def Checkpoint1_solution(selected_layers, folder_results):\n",
    "\n",
    "    # Read the SPE10 grid\n",
    "    spe10 = Spe10(selected_layers)\n",
    "\n",
    "    perm_folder = spe10_folder + \"/perm/\"\n",
    "    spe10.read_perm(perm_folder)\n",
    "    perm_dict = spe10.perm_as_dict()\n",
    "\n",
    "    num_part = 20\n",
    "    part, sub_sds, sd_coarse = coarse_grid(spe10.sd, num_part)\n",
    "\n",
    "    # Define the upscaled permeability\n",
    "    kxx_up = np.zeros(spe10.sd.num_cells)\n",
    "    kxy_up = np.zeros(spe10.sd.num_cells)\n",
    "    kyx_up = np.zeros(spe10.sd.num_cells)\n",
    "    kyy_up = np.zeros(spe10.sd.num_cells)\n",
    "\n",
    "    result = []\n",
    "    args = [(sub_sd_id, sub_sd, perm_dict, part, folder_results) for sub_sd_id, sub_sd in enumerate(sub_sds)]\n",
    "    with Pool() as pool:\n",
    "        for local_perm, mask in pool.starmap(to_parallel, args, chunksize = 2):\n",
    "            kxx_up[mask], kxy_up[mask], kyx_up[mask], kyy_up[mask] = local_perm\n",
    "            result.append(local_perm)\n",
    "\n",
    "    # Submit tasks to ray\n",
    "    # results_ids = [to_parallel_ray.remote(*arg) for arg in args]\n",
    "    #result = ray.get([to_parallel_ray.remote(*arg) for arg in args])\n",
    "\n",
    "\n",
    "    # for result_id in results_ids:\n",
    "    #     local_result, mask = ray.get(result_id)\n",
    "    #     kxx_up[mask], kxy_up[mask], kyx_up[mask], kyy_up[mask] = local_result\n",
    "    #     #print(local_result)\n",
    "    #     result.append(local_result)\n",
    "        return sd_coarse, result"
   ]
  },
  {
   "cell_type": "code",
   "execution_count": 5,
   "metadata": {},
   "outputs": [],
   "source": [
    "selected_layers = 10\n",
    "folder_results = main_folder + \"results_present/\"\n",
    "sd_coarse, result = Checkpoint1_solution(selected_layers, folder_results)"
   ]
  },
  {
   "cell_type": "code",
   "execution_count": 6,
   "metadata": {},
   "outputs": [
    {
     "data": {
      "image/png": "[encoded data removed]",
      "text/plain": [
       "<Figure size 640x480 with 2 Axes>"
      ]
     },
     "metadata": {},
     "output_type": "display_data"
    }
   ],
   "source": [
    "# visualization of results\n",
    "\n",
    "kxx = np.zeros([20])\n",
    "i = 0\n",
    "for elem in result:\n",
    "    kxx[i] = elem[0]\n",
    "    i = i + 1\n",
    "\n",
    "pp.plot_grid(sd_coarse, kxx, plot_2d=True)\n",
    "\n",
    "# Export the solution\n",
    "if folder_results is not None:\n",
    "    save = pp.Exporter(sd_coarse, \"sol_coarse\", folder_name=folder_results)\n",
    "    save.write_vtu([(\"log_perm\", np.log10(kxx))])"
   ]
  }
 ],
 "metadata": {
  "kernelspec": {
   "display_name": "py310tensorflowGPU",
   "language": "python",
   "name": "python3"
  },
  "language_info": {
   "codemirror_mode": {
    "name": "ipython",
    "version": 3
   },
   "file_extension": ".py",
   "mimetype": "text/x-python",
   "name": "python",
   "nbconvert_exporter": "python",
   "pygments_lexer": "ipython3",
   "version": "3.10.4"
  }
 },
 "nbformat": 4,
 "nbformat_minor": 2
}
